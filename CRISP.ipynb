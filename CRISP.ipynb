{
 "cells": [
  {
   "cell_type": "markdown",
   "metadata": {},
   "source": [
    "# 1-Compreensão do Negócio"
   ]
  },
  {
   "cell_type": "markdown",
   "metadata": {},
   "source": [
    "## 1.2-\tDeterminação dos Objetivos\n",
    "A primeira coisa que você deve fazer em qualquer projeto é descobrir exatamente o que você está tentando realizar! Isso é menos óbvia do que parece. Muitos mineiros de dados têm investido tempo na análise de dados, apenas para descobrir que sua gestão não foi particularmente interessados ​​na questão que está investigando. Você deve começar com uma compreensão clara de\n",
    "\n",
    "Um problema que a sua gestão quer endereçar\n",
    "\n",
    "Os objetivos de negócio\n",
    "\n",
    "As restrições (limitações sobre o que você pode fazer, os tipos de soluções que podem ser usados, quando o trabalho deve ser concluído, e assim por diante)\n",
    "\n",
    "De impacto (como o problema e as possíveis soluções encaixar com o negócio)\n",
    "\n",
    "Entregas para esta tarefa incluem três itens (geralmente breves relatórios enfocando apenas os pontos principais):"
   ]
  },
  {
   "cell_type": "markdown",
   "metadata": {},
   "source": [
    "### 1.2.1-Fundo\n",
    " Explicar a situação de negócio que conduz o projeto. Este item, como muitos que se seguem, ser de apenas alguns parágrafos."
   ]
  },
  {
   "cell_type": "markdown",
   "metadata": {},
   "source": [
    "### 1.2.2-Objetivos de negócio\n",
    "Definir o que sua organização pretende realizar com o projeto. Isso geralmente é um objetivo mais amplo do que você, como um mineiro de dados, pode realizar de forma independente. Por exemplo, o objetivo de negócio poderia ser a de aumentar as vendas de uma campanha publicitária de férias em 10 por cento ano a ano."
   ]
  },
  {
   "cell_type": "markdown",
   "metadata": {},
   "source": [
    "### 1.2.3-Critérios de sucesso do negócio\n",
    " Definir como os resultados serão medidos. Tentar obter critérios de sucesso quantitativos claramente definidos. Se você deve usar critérios subjetivos (dica: termos como ter uma visão ou obter uma alça sobre implica critérios subjetivos), pelo menos, obter um acordo sobre exatamente quem vai julgar ou não esses critérios foram cumpridos."
   ]
  },
  {
   "cell_type": "markdown",
   "metadata": {},
   "source": [
    "## 1.3-\tSituação a ser avaliada\n",
    "Isto é onde você entrar em mais detalhes sobre os problemas associados com os seus objetivos de negócio. Agora você vai aprofundar averiguação, construindo uma explicação muito mais carnudas das questões delineadas na tarefa objetivos de negócio.\n",
    "\n",
    "Entregas para esta tarefa incluem cinco relatórios detalhados:"
   ]
  },
  {
   "cell_type": "markdown",
   "metadata": {},
   "source": [
    "### 1.3.1-Inventário dos recursos\n",
    " Uma lista de todos os recursos disponíveis para o projeto. Estes podem incluir pessoas (mineiros não apenas dados, mas também aqueles com conhecimento especializado do problema de negócio, gerentes de dados, suporte técnico e outros), dados, hardware e software."
   ]
  },
  {
   "cell_type": "markdown",
   "metadata": {},
   "source": [
    "### 1.3.2-Requisitos, premissas e restrições\n",
    " Requisitos incluirá um calendário para a conclusão, obrigações legais e de segurança e os requisitos para o trabalho acabado aceitável. Este é o ponto para verificar que você terá acesso a dados apropriados!"
   ]
  },
  {
   "cell_type": "markdown",
   "metadata": {},
   "source": [
    "### 1.3.3-Riscos e contingências\n",
    " Identificar as causas que poderiam atrasar a conclusão do projeto, e preparar um plano de contingência para cada um deles. Por exemplo, se uma interrupção de Internet em seu escritório poderia representar um problema, talvez o seu contingência poderia ser para trabalhar em outro cargo até a interrupção acabou."
   ]
  },
  {
   "cell_type": "markdown",
   "metadata": {},
   "source": [
    "### 1.3.4-Terminologia\n",
    " Criar uma lista de termos de negócios e termos de mineração de dados que são relevantes para o seu projecto e anotá-las em um glossário com definições (e talvez exemplos), de modo que todos os envolvidos no projeto pode ter uma compreensão comum desses termos.\n",
    "\n"
   ]
  },
  {
   "cell_type": "markdown",
   "metadata": {},
   "source": [
    "### 1.3.5-Custos e benefícios\n",
    " Prepare uma análise custo-benefício para o projeto. Tente declarar todos os custos e benefícios em dólar (euro, libra, iene, e assim por diante) termos. Se os benefícios não excedem significativamente os custos, parar e reconsiderar esta análise e seu projeto."
   ]
  },
  {
   "cell_type": "markdown",
   "metadata": {},
   "source": [
    "## 1.4-\tDeterminar metas da Mineração de Dados\n",
    "Alcançar a meta de negócios exige muitas vezes a ação de muitas pessoas, não apenas o minerador de dados. Então, agora, você deve definir a sua pequena parte dentro do quadro maior. Se o objetivo do negócio é reduzir o atrito do cliente, por exemplo, suas metas de mineração de dados pode ser identificar as taxas de desgaste por vários segmentos de clientes, e desenvolver modelos para prever quais clientes estão em maior risco.\n",
    "\n",
    "Entregas para esta tarefa incluem dois relatórios:"
   ]
  },
  {
   "cell_type": "markdown",
   "metadata": {},
   "source": [
    "### 1.4.1-Metas de mineração de dados\n",
    " Definir resultados de mineração de dados, tais como modelos, relatórios, apresentações, e conjuntos de dados processados."
   ]
  },
  {
   "cell_type": "markdown",
   "metadata": {},
   "source": [
    "### 1.4.2-Critérios de sucesso de mineração de dados\n",
    " Definir os critérios técnicos de mineração de dados necessários para suportar os critérios de sucesso empresarial. Tentar defini-los em termos quantitativos (tais como a precisão do modelo ou a melhoria preditivo em relação a um método existente). Se os critérios devem ser qualitativa, identificar a pessoa que faz a avaliação."
   ]
  },
  {
   "cell_type": "markdown",
   "metadata": {},
   "source": [
    "## 1.5-\tProduzir o projeto\n",
    "Agora você especificar cada passo que você, o mineiro dos dados, pretende levar até que o projeto seja concluído e os resultados são apresentados e analisados.\n",
    "\n",
    "Entregas para esta tarefa incluem dois relatórios:"
   ]
  },
  {
   "cell_type": "markdown",
   "metadata": {},
   "source": [
    "### 1.5.1-Plano de projeto\n",
    " Delinear o seu plano de acção passo-a-passo para o projeto. Expandir o contorno com um calendário para a conclusão de cada etapa, os recursos necessários, insumos (tais como dados ou uma reunião com um especialista no assunto), e saídas (tais como dados limpos, um modelo, ou um relatório) para cada passo, e dependências (etapas que não pode começar até que essa etapa for concluída). Explicitamente que certos passos devem ser repetidos (por exemplo, modelagem e avaliação costumam chamar de várias repetições de vai-e-vem)."
   ]
  },
  {
   "cell_type": "markdown",
   "metadata": {},
   "source": [
    "### 1.5.2-A avaliação inicial de ferramentas e técnicas\n",
    " Identificar os recursos necessários para cumprir suas metas de mineração de dados e avaliar as ferramentas e recursos que você tem. Se algo está faltando, você tem que abordar essa preocupação logo no início do processo."
   ]
  },
  {
   "cell_type": "markdown",
   "metadata": {},
   "source": [
    "# 2-Compreensão dos Dados\n"
   ]
  },
  {
   "cell_type": "markdown",
   "metadata": {},
   "source": [
    "## 2.1-\tColeta inicial dos dados\n"
   ]
  },
  {
   "cell_type": "markdown",
   "metadata": {},
   "source": [
    "### 2.1.1-Requisitos de dados de estrutura de tópicos\n",
    " Crie uma lista dos tipos de dados necessários para atender os objetivos de mineração de dados. Expanda a lista com detalhes como o intervalo de tempo necessário e os formatos de dados."
   ]
  },
  {
   "cell_type": "markdown",
   "metadata": {},
   "source": [
    "### 2.1.3-Verificar a disponibilidade de dados\n",
    " Confirme se os dados necessários existem e que você pode usá-lo. Se alguns dos dados desejados não estiverem disponíveis, decida como você abordará esse problema. Considere alternativas como\n",
    " \n",
    " Substituindo por uma fonte de dados alternativa\n",
    "\n",
    " Limitando o escopo do projeto\n",
    "\n",
    " Recolher novos dados\n",
    "\n"
   ]
  },
  {
   "cell_type": "markdown",
   "metadata": {},
   "source": [
    "### 2.1.4-Definir critérios de seleção\n",
    " Identificar as fontes de dados específicas (bancos de dados, arquivos, documentos, e assim por diante.) você usará. Nessas fontes, especifique as tabelas, os campos e os intervalos de casos relevantes para este projeto."
   ]
  },
  {
   "cell_type": "markdown",
   "metadata": {},
   "source": [
    "## 2.2-\tDescrição dos dados\n",
    "Agora que você possui dados, prepare uma descrição geral do que você tem.\n",
    "\n",
    "O fornecimento para esta tarefa é o relatório de descrição de dados. Nela, você descreve a fonte e os formatos dos dados, o número de casos, o número e as descrições dos campos e qualquer outra informação geral que seja importante. Você também faz uma breve avaliação da adequação dos dados para seus objetivos de mineração de dados. Por exemplo, verifique se os dados incluem os campos que você espera e precisam estar lá e casos suficientes para análise."
   ]
  },
  {
   "cell_type": "markdown",
   "metadata": {},
   "source": [
    "## 2.3-\tExploração dos Dados\n",
    "Nesta tarefa, você examina os dados mais de perto. Para cada variável, você olha a gama de valores e suas distribuições. Você usará manipulação de dados simples e técnicas estatísticas básicas para verificações adicionais nos dados. A exploração de dados suporta várias finalidades:\n",
    "\n",
    "Familiarize-se com os dados.\n",
    "\n",
    "Mancha sinais de problemas de qualidade de dados.\n",
    "\n",
    "Preparar o cenário para etapas de preparação de dados.\n",
    "\n",
    "O produto para esta tarefa é o relatório de exploração de dados. É o lugar para documentar quaisquer hipóteses ou descobertas iniciais que você desenvolveu durante a exploração de dados. Este relatório deve incluir uma descrição mais detalhada dos dados do que o relatório de descrição de dados, incluindo distribuições, resumos e quaisquer sinais de problemas de qualidade de dados.\n"
   ]
  },
  {
   "cell_type": "markdown",
   "metadata": {},
   "source": [
    "## 2.4-\tVerificação da qualidade dos dados\n",
    "Você tem os dados e você examinou, e agora você deve determinar se é bom o suficiente para suportar seus objetivos. Muitas vezes, você terá algum problema de qualidade para endereço ainda pode avançar, mas às vezes a qualidade dos dados é tão fraca que não pode suportar seu plano e você terá que buscar alternativas. Alguns dos piores problemas de dados incluem\n",
    "\n",
    "Os dados que você precisa não existem. (Nunca existiu, ou foi descartado? Os dados podem ser coletados e guardados para uso futuro?)\n",
    "\n",
    "Existe, mas você não pode ter. (Essa restrição pode ser superada?)\n",
    "\n",
    "Você encontra problemas severos de qualidade de dados (muitos valores faltantes ou incorretos que não podem ser corrigidos).\n",
    "\n",
    "O produto para esta tarefa é o relatório de qualidade de dados. Isso resume os dados que você tem, os problemas menores e de grande qualidade que você encontrou e possíveis remédios para problemas ou alternativas de qualidade (como usar um recurso de dados alternativo).Se você está enfrentando problemas de qualidade de dados realmente sérios e não consegue identificar uma solução adequada, talvez seja necessário recomendar a reconsideração de metas ou planos."
   ]
  },
  {
   "cell_type": "markdown",
   "metadata": {},
   "source": [
    "# 3-Preparação dos Dados\n",
    "\n"
   ]
  },
  {
   "cell_type": "markdown",
   "metadata": {},
   "source": [
    "## 3.1-\tSeleção dos dados\n",
    "Agora você vai decidir qual parte dos dados que você possui realmente será usado para mineração de dados.\n",
    "\n",
    "O produto para esta tarefa é o raciocínio para inclusão e exclusão. Nela, você explicará quais dados serão e não serão usados ​​para o trabalho de mineração de dados.\n",
    "\n",
    "Você explicará os motivos para incluir ou excluir cada parte dos dados que você possui, com base na relevância para seus objetivos, qualidade de dados e problemas técnicos - como limites para o número de campos ou linhas que suas ferramentas podem identificador, ou a adequação dos formatos de dados para suas necessidades."
   ]
  },
  {
   "cell_type": "markdown",
   "metadata": {},
   "source": [
    "## 3.2-\tLimpeza dos dados\n",
    "Os dados que você escolheu usar provavelmente não estarão perfeitamente limpos (sem erros). Você fará mudanças, talvez rastreando fontes para fazer correções de dados específicas, excluindo alguns casos ou células individuais (itens de dados) ou substituindo alguns itens de dados por valores ou substituições padrão selecionados por uma técnica de modelagem mais sofisticada. Você pode escolher usar apenas subconjuntos de dados para todos ou alguns de seus trabalhos de mineração de dados.\n",
    "\n",
    "O fornecimento para esta tarefa é o relatório de limpeza de dados, que documenta, em detalhes insatisfatórios, todas as decisões e ações usadas para limpar seus dados. Este relatório deve abranger e referir-se a cada problema de qualidade de dados que foi identificado na tarefa verificar a qualidade dos dados na fase de compreensão de dados do processo. O relatório também deve abordar o impacto potencial sobre os resultados das escolhas que você fez durante a limpeza de dados.\n"
   ]
  },
  {
   "cell_type": "markdown",
   "metadata": {},
   "source": [
    "## 3.3-\tConstrução dos dados\n",
    "Talvez seja necessário derivar alguns novos campos (por exemplo, use a data de entrega e a data em que um cliente fez uma ordem para calcular quanto tempo o cliente esperou para receber um pedido), dados agregados, ou de outra forma criar uma nova forma de dados.\n",
    "\n",
    "Entregáveis ​​para esta tarefa incluem dois relatórios:\n"
   ]
  },
  {
   "cell_type": "markdown",
   "metadata": {},
   "source": [
    "### 3.3.1-Atributos derivados\n",
    " Um relatório que descreve quais novos campos (colunas) você construiu, como você fez e por quê."
   ]
  },
  {
   "cell_type": "markdown",
   "metadata": {},
   "source": [
    "### 3.3.2-Registros gerados\n",
    " Um relatório que descreve quais novos casos (linhas) você construiu, como você fez e por quê."
   ]
  },
  {
   "cell_type": "markdown",
   "metadata": {},
   "source": [
    "## 3.4-\tIntegração de dados\n",
    "Seus dados agora podem estar em vários conjuntos de dados diferentes. Você precisará juntar alguns ou todos esses conjuntos de dados diferentes para se preparar para a fase de modelagem.\n",
    "\n",
    "O fornecimento para esta tarefa é o dado mesclado. (E não daria mal ao documento como a mesclagem foi executada.)"
   ]
  },
  {
   "cell_type": "markdown",
   "metadata": {},
   "source": [
    "## 3.5-\tFormatação de dados\n",
    "Os dados geralmente são fornecidos em formatos diferentes dos que são mais convenientes para modelagem. (As modificações no formato geralmente são orientadas pelo design de suas ferramentas). Então, converta esses formatos agora.\n",
    "\n",
    "O fornecimento para esta tarefa são os dados reformatados. (E um pequeno relatório descrevendo as mudanças que você fez seria uma coisa inteligente para incluir.)\n",
    "\n",
    "Você deve encerrar a fase de preparação de dados do processo de mineração de dados com um conjunto de dados pronto para modelagem e um relatório detalhado descrevendo o conjunto de dados.\n"
   ]
  },
  {
   "cell_type": "markdown",
   "metadata": {},
   "source": [
    "# 4-Modelagem\n"
   ]
  },
  {
   "cell_type": "markdown",
   "metadata": {},
   "source": [
    "## 4.1-\tSeleção da técnica de modelagem\n"
   ]
  },
  {
   "cell_type": "markdown",
   "metadata": {},
   "source": [
    "## 4.2-\tGeração do projeto de teste\n"
   ]
  },
  {
   "cell_type": "markdown",
   "metadata": {},
   "source": [
    "## 4.3-\tConstrução do modelo\n"
   ]
  },
  {
   "cell_type": "markdown",
   "metadata": {},
   "source": [
    "## 4.4-\tModelo a ser avaliado\n"
   ]
  },
  {
   "cell_type": "markdown",
   "metadata": {},
   "source": [
    "## 4.5-\tAjustes no modelo\n"
   ]
  },
  {
   "cell_type": "markdown",
   "metadata": {},
   "source": [
    "# 5-Avaliação\n"
   ]
  },
  {
   "cell_type": "markdown",
   "metadata": {},
   "source": [
    "## 5.1-\tAvaliação dos resultados\n"
   ]
  },
  {
   "cell_type": "markdown",
   "metadata": {},
   "source": [
    "## 5.2-\tRevisão de processo\n"
   ]
  },
  {
   "cell_type": "markdown",
   "metadata": {},
   "source": [
    "## 5.3-\tDeterminar próximos passos\n"
   ]
  },
  {
   "cell_type": "markdown",
   "metadata": {},
   "source": [
    "# 6-Desenvolvimento\n"
   ]
  },
  {
   "cell_type": "markdown",
   "metadata": {},
   "source": [
    "## 6.1-\tAplicação do projeto\n"
   ]
  },
  {
   "cell_type": "markdown",
   "metadata": {},
   "source": [
    "## 6.2-\tPlanejar entrega\n"
   ]
  },
  {
   "cell_type": "markdown",
   "metadata": {},
   "source": [
    "## 6.3-\tPlano de monitoração e manutenção\n"
   ]
  },
  {
   "cell_type": "markdown",
   "metadata": {},
   "source": [
    "## 6.4-\tProdução do relatório final\n"
   ]
  },
  {
   "cell_type": "markdown",
   "metadata": {},
   "source": [
    "## 6.5-\tRevisão do projeto\n"
   ]
  },
  {
   "cell_type": "markdown",
   "metadata": {},
   "source": [
    "## 6.6-\tLições aprendidas\n"
   ]
  },
  {
   "cell_type": "markdown",
   "metadata": {},
   "source": []
  }
 ],
 "metadata": {
  "kernelspec": {
   "display_name": "Python 3.9.6 64-bit",
   "language": "python",
   "name": "python3"
  },
  "language_info": {
   "name": "python",
   "version": "3.9.6"
  },
  "orig_nbformat": 4,
  "vscode": {
   "interpreter": {
    "hash": "1a26e4b7189bf03eb81522675f6e6c88684ba722547c6ad443d3676f771c332f"
   }
  }
 },
 "nbformat": 4,
 "nbformat_minor": 2
}
