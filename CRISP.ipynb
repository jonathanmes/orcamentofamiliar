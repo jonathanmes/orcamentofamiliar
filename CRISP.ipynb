{
 "cells": [
  {
   "cell_type": "markdown",
   "metadata": {},
   "source": [
    "# 1-Compreensão do Negócio"
   ]
  },
  {
   "cell_type": "markdown",
   "metadata": {},
   "source": [
    "## 1.2-\tDeterminação dos Objetivos\n",
    "A primeira coisa que você deve fazer em qualquer projeto é descobrir exatamente o que você está tentando realizar! Isso é menos óbvia do que parece. Muitos mineiros de dados têm investido tempo na análise de dados, apenas para descobrir que sua gestão não foi particularmente interessados ​​na questão que está investigando. Você deve começar com uma compreensão clara de\n",
    "\n",
    "Um problema que a sua gestão quer endereçar\n",
    "\n",
    "Os objetivos de negócio\n",
    "\n",
    "As restrições (limitações sobre o que você pode fazer, os tipos de soluções que podem ser usados, quando o trabalho deve ser concluído, e assim por diante)\n",
    "\n",
    "De impacto (como o problema e as possíveis soluções encaixar com o negócio)\n",
    "\n",
    "Entregas para esta tarefa incluem três itens (geralmente breves relatórios enfocando apenas os pontos principais):"
   ]
  },
  {
   "cell_type": "markdown",
   "metadata": {},
   "source": [
    "### 1.2.1-Fundo\n",
    " Explicar a situação de negócio que conduz o projeto. Este item, como muitos que se seguem, ser de apenas alguns parágrafos."
   ]
  },
  {
   "cell_type": "markdown",
   "metadata": {},
   "source": [
    "### 1.2.2-Objetivos de negócio\n",
    "Definir o que sua organização pretende realizar com o projeto. Isso geralmente é um objetivo mais amplo do que você, como um mineiro de dados, pode realizar de forma independente. Por exemplo, o objetivo de negócio poderia ser a de aumentar as vendas de uma campanha publicitária de férias em 10 por cento ano a ano."
   ]
  },
  {
   "cell_type": "markdown",
   "metadata": {},
   "source": [
    "### 1.2.3-Critérios de sucesso do negócio\n",
    " Definir como os resultados serão medidos. Tentar obter critérios de sucesso quantitativos claramente definidos. Se você deve usar critérios subjetivos (dica: termos como ter uma visão ou obter uma alça sobre implica critérios subjetivos), pelo menos, obter um acordo sobre exatamente quem vai julgar ou não esses critérios foram cumpridos."
   ]
  },
  {
   "cell_type": "markdown",
   "metadata": {},
   "source": [
    "## 1.3-\tSituação a ser avaliada\n",
    "Isto é onde você entrar em mais detalhes sobre os problemas associados com os seus objetivos de negócio. Agora você vai aprofundar averiguação, construindo uma explicação muito mais carnudas das questões delineadas na tarefa objetivos de negócio.\n",
    "\n",
    "Entregas para esta tarefa incluem cinco relatórios detalhados:"
   ]
  },
  {
   "cell_type": "markdown",
   "metadata": {},
   "source": [
    "### 1.3.1-Inventário dos recursos\n",
    " Uma lista de todos os recursos disponíveis para o projeto. Estes podem incluir pessoas (mineiros não apenas dados, mas também aqueles com conhecimento especializado do problema de negócio, gerentes de dados, suporte técnico e outros), dados, hardware e software."
   ]
  },
  {
   "cell_type": "markdown",
   "metadata": {},
   "source": [
    "### 1.3.2-Requisitos, premissas e restrições\n",
    " Requisitos incluirá um calendário para a conclusão, obrigações legais e de segurança e os requisitos para o trabalho acabado aceitável. Este é o ponto para verificar que você terá acesso a dados apropriados!"
   ]
  },
  {
   "cell_type": "markdown",
   "metadata": {},
   "source": [
    "### 1.3.3-Riscos e contingências\n",
    " Identificar as causas que poderiam atrasar a conclusão do projeto, e preparar um plano de contingência para cada um deles. Por exemplo, se uma interrupção de Internet em seu escritório poderia representar um problema, talvez o seu contingência poderia ser para trabalhar em outro cargo até a interrupção acabou."
   ]
  },
  {
   "cell_type": "markdown",
   "metadata": {},
   "source": [
    "### 1.3.4-Terminologia\n",
    " Criar uma lista de termos de negócios e termos de mineração de dados que são relevantes para o seu projecto e anotá-las em um glossário com definições (e talvez exemplos), de modo que todos os envolvidos no projeto pode ter uma compreensão comum desses termos.\n",
    "\n"
   ]
  },
  {
   "cell_type": "markdown",
   "metadata": {},
   "source": [
    "### 1.3.5-Custos e benefícios\n",
    " Prepare uma análise custo-benefício para o projeto. Tente declarar todos os custos e benefícios em dólar (euro, libra, iene, e assim por diante) termos. Se os benefícios não excedem significativamente os custos, parar e reconsiderar esta análise e seu projeto."
   ]
  },
  {
   "cell_type": "markdown",
   "metadata": {},
   "source": [
    "## 1.4-\tDeterminar metas da Mineração de Dados\n",
    "Alcançar a meta de negócios exige muitas vezes a ação de muitas pessoas, não apenas o minerador de dados. Então, agora, você deve definir a sua pequena parte dentro do quadro maior. Se o objetivo do negócio é reduzir o atrito do cliente, por exemplo, suas metas de mineração de dados pode ser identificar as taxas de desgaste por vários segmentos de clientes, e desenvolver modelos para prever quais clientes estão em maior risco.\n",
    "\n",
    "Entregas para esta tarefa incluem dois relatórios:"
   ]
  },
  {
   "cell_type": "markdown",
   "metadata": {},
   "source": [
    "### 1.4.1-Metas de mineração de dados\n",
    " Definir resultados de mineração de dados, tais como modelos, relatórios, apresentações, e conjuntos de dados processados."
   ]
  },
  {
   "cell_type": "markdown",
   "metadata": {},
   "source": [
    "### 1.4.2-Critérios de sucesso de mineração de dados\n",
    " Definir os critérios técnicos de mineração de dados necessários para suportar os critérios de sucesso empresarial. Tentar defini-los em termos quantitativos (tais como a precisão do modelo ou a melhoria preditivo em relação a um método existente). Se os critérios devem ser qualitativa, identificar a pessoa que faz a avaliação."
   ]
  },
  {
   "cell_type": "markdown",
   "metadata": {},
   "source": [
    "## 1.5-\tProduzir o projeto\n",
    "Agora você especificar cada passo que você, o mineiro dos dados, pretende levar até que o projeto seja concluído e os resultados são apresentados e analisados.\n",
    "\n",
    "Entregas para esta tarefa incluem dois relatórios:"
   ]
  },
  {
   "cell_type": "markdown",
   "metadata": {},
   "source": [
    "### 1.5.1-Plano de projeto\n",
    " Delinear o seu plano de acção passo-a-passo para o projeto. Expandir o contorno com um calendário para a conclusão de cada etapa, os recursos necessários, insumos (tais como dados ou uma reunião com um especialista no assunto), e saídas (tais como dados limpos, um modelo, ou um relatório) para cada passo, e dependências (etapas que não pode começar até que essa etapa for concluída). Explicitamente que certos passos devem ser repetidos (por exemplo, modelagem e avaliação costumam chamar de várias repetições de vai-e-vem)."
   ]
  },
  {
   "cell_type": "markdown",
   "metadata": {},
   "source": [
    "### 1.5.2-A avaliação inicial de ferramentas e técnicas\n",
    " Identificar os recursos necessários para cumprir suas metas de mineração de dados e avaliar as ferramentas e recursos que você tem. Se algo está faltando, você tem que abordar essa preocupação logo no início do processo."
   ]
  },
  {
   "cell_type": "markdown",
   "metadata": {},
   "source": [
    "# 2-Compreensão dos Dados\n"
   ]
  },
  {
   "cell_type": "markdown",
   "metadata": {},
   "source": [
    "## 2.1-\tColeta inicial dos dados\n"
   ]
  },
  {
   "cell_type": "markdown",
   "metadata": {},
   "source": [
    "## 2.2-\tDescrição dos dados\n"
   ]
  },
  {
   "cell_type": "markdown",
   "metadata": {},
   "source": [
    "## 2.3-\tExploração dos Dados\n"
   ]
  },
  {
   "cell_type": "markdown",
   "metadata": {},
   "source": [
    "## 2.4-\tVerificação da qualidade dos dados\n"
   ]
  },
  {
   "cell_type": "markdown",
   "metadata": {},
   "source": [
    "# 3-Preparação dos Dados\n",
    "\n"
   ]
  },
  {
   "cell_type": "markdown",
   "metadata": {},
   "source": [
    "## 3.1-\tSeleção dos dados\n"
   ]
  },
  {
   "cell_type": "markdown",
   "metadata": {},
   "source": [
    "## 3.2-\tLimpeza dos dados\n"
   ]
  },
  {
   "cell_type": "markdown",
   "metadata": {},
   "source": [
    "## 3.3-\tConstrução dos dados\n"
   ]
  },
  {
   "cell_type": "markdown",
   "metadata": {},
   "source": [
    "## 3.4-\tIntegração de dados\n"
   ]
  },
  {
   "cell_type": "markdown",
   "metadata": {},
   "source": [
    "## 3.5-\tFormatação de dados\n"
   ]
  },
  {
   "cell_type": "markdown",
   "metadata": {},
   "source": [
    "## 3.6-\tDescrição das bases\n"
   ]
  },
  {
   "cell_type": "markdown",
   "metadata": {},
   "source": [
    "# 4-Modelagem\n"
   ]
  },
  {
   "cell_type": "markdown",
   "metadata": {},
   "source": [
    "## 4.1-\tSeleção da técnica de modelagem\n"
   ]
  },
  {
   "cell_type": "markdown",
   "metadata": {},
   "source": [
    "## 4.2-\tGeração do projeto de teste\n"
   ]
  },
  {
   "cell_type": "markdown",
   "metadata": {},
   "source": [
    "## 4.3-\tConstrução do modelo\n"
   ]
  },
  {
   "cell_type": "markdown",
   "metadata": {},
   "source": [
    "## 4.4-\tModelo a ser avaliado\n"
   ]
  },
  {
   "cell_type": "markdown",
   "metadata": {},
   "source": [
    "## 4.5-\tAjustes no modelo\n"
   ]
  },
  {
   "cell_type": "markdown",
   "metadata": {},
   "source": [
    "# 5-Avaliação\n"
   ]
  },
  {
   "cell_type": "markdown",
   "metadata": {},
   "source": [
    "## 5.1-\tAvaliação dos resultados\n"
   ]
  },
  {
   "cell_type": "markdown",
   "metadata": {},
   "source": [
    "## 5.2-\tRevisão de processo\n"
   ]
  },
  {
   "cell_type": "markdown",
   "metadata": {},
   "source": [
    "## 5.3-\tDeterminar próximos passos\n"
   ]
  },
  {
   "cell_type": "markdown",
   "metadata": {},
   "source": [
    "# 6-Desenvolvimento\n"
   ]
  },
  {
   "cell_type": "markdown",
   "metadata": {},
   "source": [
    "## 6.1-\tAplicação do projeto\n"
   ]
  },
  {
   "cell_type": "markdown",
   "metadata": {},
   "source": [
    "## 6.2-\tPlanejar entrega\n"
   ]
  },
  {
   "cell_type": "markdown",
   "metadata": {},
   "source": [
    "## 6.3-\tPlano de monitoração e manutenção\n"
   ]
  },
  {
   "cell_type": "markdown",
   "metadata": {},
   "source": [
    "## 6.4-\tProdução do relatório final\n"
   ]
  },
  {
   "cell_type": "markdown",
   "metadata": {},
   "source": [
    "## 6.5-\tRevisão do projeto\n"
   ]
  },
  {
   "cell_type": "markdown",
   "metadata": {},
   "source": [
    "## 6.6-\tLições aprendidas\n"
   ]
  },
  {
   "cell_type": "markdown",
   "metadata": {},
   "source": []
  }
 ],
 "metadata": {
  "kernelspec": {
   "display_name": "Python 3.9.6 64-bit",
   "language": "python",
   "name": "python3"
  },
  "language_info": {
   "name": "python",
   "version": "3.9.6"
  },
  "orig_nbformat": 4,
  "vscode": {
   "interpreter": {
    "hash": "1a26e4b7189bf03eb81522675f6e6c88684ba722547c6ad443d3676f771c332f"
   }
  }
 },
 "nbformat": 4,
 "nbformat_minor": 2
}
